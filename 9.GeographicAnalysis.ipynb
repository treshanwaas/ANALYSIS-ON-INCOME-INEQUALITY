{
 "cells": [
  {
   "cell_type": "code",
   "execution_count": 30,
   "metadata": {},
   "outputs": [],
   "source": [
    "import numpy as np\n",
    "import pandas as pd\n",
    "import matplotlib.pyplot as plt\n",
    "import seaborn as sns\n",
    "\n",
    "df=pd.read_csv('wiid2.csv')\n",
    "df.columns=df.columns.str.replace(' ','_').str.lower()\n",
    "#df.info()"
   ]
  },
  {
   "cell_type": "code",
   "execution_count": 31,
   "metadata": {},
   "outputs": [
    {
     "name": "stdout",
     "output_type": "stream",
     "text": [
      "<class 'pandas.core.frame.DataFrame'>\n",
      "Int64Index: 11053 entries, 0 to 11100\n",
      "Data columns (total 8 columns):\n",
      " #   Column         Non-Null Count  Dtype  \n",
      "---  ------         --------------  -----  \n",
      " 0   country        11053 non-null  object \n",
      " 1   year           11053 non-null  int64  \n",
      " 2   gini_reported  11053 non-null  float64\n",
      " 3   resource       11053 non-null  object \n",
      " 4   region_un      11053 non-null  object \n",
      " 5   region_un_sub  11053 non-null  object \n",
      " 6   region_wb      11053 non-null  object \n",
      " 7   areacovr       11053 non-null  object \n",
      "dtypes: float64(1), int64(1), object(6)\n",
      "memory usage: 777.2+ KB\n"
     ]
    }
   ],
   "source": [
    "df1=df.loc[:,['country','year','gini_reported','resource','region_un','region_un_sub','region_wb','areacovr']]\n",
    "df1=df1.dropna(subset=['gini_reported','resource'])\n",
    "df1['resource'].replace(to_replace=['Income (gross)','Income (net)','Income (net/gross)'],value=['Inc (g)','Inc (n)','Inc (n/g)'],inplace=True)\n",
    "df1.info()"
   ]
  },
  {
   "cell_type": "code",
   "execution_count": 32,
   "metadata": {},
   "outputs": [],
   "source": [
    "year_country=pd.crosstab(index=df1['year'],columns=df1['resource'],values=df1['country'],aggfunc=\"count\")\n",
    "#print(year_country)"
   ]
  },
  {
   "cell_type": "code",
   "execution_count": 33,
   "metadata": {},
   "outputs": [
    {
     "name": "stdout",
     "output_type": "stream",
     "text": [
      "<class 'pandas.core.frame.DataFrame'>\n",
      "Int64Index: 3600 entries, 0 to 11100\n",
      "Data columns (total 8 columns):\n",
      " #   Column         Non-Null Count  Dtype  \n",
      "---  ------         --------------  -----  \n",
      " 0   country        3600 non-null   object \n",
      " 1   year           3600 non-null   int64  \n",
      " 2   gini_reported  3600 non-null   float64\n",
      " 3   resource       3600 non-null   object \n",
      " 4   region_un      3600 non-null   object \n",
      " 5   region_un_sub  3600 non-null   object \n",
      " 6   region_wb      3600 non-null   object \n",
      " 7   areacovr       3600 non-null   object \n",
      "dtypes: float64(1), int64(1), object(6)\n",
      "memory usage: 253.1+ KB\n"
     ]
    }
   ],
   "source": [
    "indexNames = df1[df1['year'] < 2006].index\n",
    "df1.drop(indexNames,inplace=True)\n",
    "indexNames = df1[df1['year'] > 2016].index\n",
    "df1.drop(indexNames,inplace=True)\n",
    "df1.info()"
   ]
  },
  {
   "cell_type": "code",
   "execution_count": 34,
   "metadata": {},
   "outputs": [
    {
     "name": "stdout",
     "output_type": "stream",
     "text": [
      "resource  Consumption  Earnings  Inc (g)  Inc (n)  Inc (n/g)\n",
      "year                                                        \n",
      "2006               49        35       27      116         93\n",
      "2007               58        28       69      166         75\n",
      "2008               57        36       36      122         82\n",
      "2009               52        40       31      133         88\n",
      "2010               80        35       76      190         86\n",
      "2011               53        39       36      124         88\n",
      "2012               55        36       43      124         82\n",
      "2013               42        34       75      171         85\n",
      "2014               39        35       42       84         80\n",
      "2015               37        26       30       72         72\n",
      "2016               26         2       11       54         43\n"
     ]
    }
   ],
   "source": [
    "year_country=pd.crosstab(index=df1['year'],columns=df1['resource'],values=df1['country'],aggfunc=\"count\")\n",
    "print(year_country)"
   ]
  },
  {
   "cell_type": "code",
   "execution_count": 35,
   "metadata": {},
   "outputs": [
    {
     "name": "stdout",
     "output_type": "stream",
     "text": [
      "resource            Consumption  Earnings  Inc (g)  Inc (n)  Inc (n/g)\n",
      "country                                                               \n",
      "Afghanistan                 1.0       NaN      NaN      NaN        NaN\n",
      "Albania                     2.0       NaN      NaN      NaN        NaN\n",
      "Algeria                     1.0       NaN      NaN      NaN        NaN\n",
      "Angola                      4.0       NaN      NaN      NaN        3.0\n",
      "Argentina                   NaN       1.0      NaN      6.0       32.0\n",
      "...                         ...       ...      ...      ...        ...\n",
      "Vietnam                    12.0       NaN      NaN      NaN        NaN\n",
      "West Bank and Gaza          5.0       NaN      NaN      NaN        NaN\n",
      "Yemen                       2.0       NaN      NaN      NaN        NaN\n",
      "Zambia                      3.0       NaN      NaN      NaN        NaN\n",
      "Zimbabwe                    4.0       NaN      NaN      NaN        NaN\n",
      "\n",
      "[168 rows x 5 columns]\n"
     ]
    }
   ],
   "source": [
    "country_year=pd.crosstab(index=df1['country'],columns=df1['resource'],values=df1['year'],aggfunc=\"count\")\n",
    "print(country_year)"
   ]
  },
  {
   "cell_type": "code",
   "execution_count": 36,
   "metadata": {},
   "outputs": [
    {
     "data": {
      "text/plain": [
       "2010    356\n",
       "2007    299\n",
       "2013    298\n",
       "2009    273\n",
       "2011    265\n",
       "2008    261\n",
       "2012    261\n",
       "2006    258\n",
       "2014    203\n",
       "2015    181\n",
       "2016    123\n",
       "Name: year, dtype: int64"
      ]
     },
     "execution_count": 36,
     "metadata": {},
     "output_type": "execute_result"
    }
   ],
   "source": [
    "indexNames = df1[df1['resource'] == 'Earnings'].index\n",
    "df1.drop(indexNames,inplace=True)\n",
    "indexNames = df1[df1['resource'] == 'Inc (g)'].index\n",
    "df1.drop(indexNames,inplace=True)\n",
    "df1['year'].value_counts()"
   ]
  },
  {
   "cell_type": "code",
   "execution_count": 37,
   "metadata": {},
   "outputs": [],
   "source": [
    "df_c=df1.loc[df1['resource'] == 'Consumption']\n",
    "df_i_n=df1.loc[df1['resource'] == 'Inc (n)']\n",
    "df_i_ng=df1.loc[df1['resource'] == 'Inc (n/g)']"
   ]
  },
  {
   "cell_type": "code",
   "execution_count": 38,
   "metadata": {},
   "outputs": [
    {
     "name": "stdout",
     "output_type": "stream",
     "text": [
      "(548, 8)\n",
      "(1356, 8)\n",
      "(874, 8)\n"
     ]
    },
    {
     "data": {
      "text/html": [
       "<div>\n",
       "<style scoped>\n",
       "    .dataframe tbody tr th:only-of-type {\n",
       "        vertical-align: middle;\n",
       "    }\n",
       "\n",
       "    .dataframe tbody tr th {\n",
       "        vertical-align: top;\n",
       "    }\n",
       "\n",
       "    .dataframe thead th {\n",
       "        text-align: right;\n",
       "    }\n",
       "</style>\n",
       "<table border=\"1\" class=\"dataframe\">\n",
       "  <thead>\n",
       "    <tr style=\"text-align: right;\">\n",
       "      <th></th>\n",
       "      <th>country</th>\n",
       "      <th>year</th>\n",
       "      <th>gini_reported</th>\n",
       "      <th>resource</th>\n",
       "      <th>region_un</th>\n",
       "      <th>region_un_sub</th>\n",
       "      <th>region_wb</th>\n",
       "      <th>areacovr</th>\n",
       "    </tr>\n",
       "  </thead>\n",
       "  <tbody>\n",
       "    <tr>\n",
       "      <th>0</th>\n",
       "      <td>Afghanistan</td>\n",
       "      <td>2008</td>\n",
       "      <td>29.00</td>\n",
       "      <td>Consumption</td>\n",
       "      <td>Asia</td>\n",
       "      <td>Southern Asia</td>\n",
       "      <td>South Asia</td>\n",
       "      <td>All</td>\n",
       "    </tr>\n",
       "    <tr>\n",
       "      <th>4</th>\n",
       "      <td>Albania</td>\n",
       "      <td>2008</td>\n",
       "      <td>29.98</td>\n",
       "      <td>Consumption</td>\n",
       "      <td>Europe</td>\n",
       "      <td>Southern Europe</td>\n",
       "      <td>Europe and Central Asia</td>\n",
       "      <td>All</td>\n",
       "    </tr>\n",
       "    <tr>\n",
       "      <th>5</th>\n",
       "      <td>Albania</td>\n",
       "      <td>2012</td>\n",
       "      <td>28.96</td>\n",
       "      <td>Consumption</td>\n",
       "      <td>Europe</td>\n",
       "      <td>Southern Europe</td>\n",
       "      <td>Europe and Central Asia</td>\n",
       "      <td>All</td>\n",
       "    </tr>\n",
       "    <tr>\n",
       "      <th>8</th>\n",
       "      <td>Algeria</td>\n",
       "      <td>2012</td>\n",
       "      <td>27.62</td>\n",
       "      <td>Consumption</td>\n",
       "      <td>Africa</td>\n",
       "      <td>Northern Africa</td>\n",
       "      <td>Middle East and North Africa</td>\n",
       "      <td>All</td>\n",
       "    </tr>\n",
       "    <tr>\n",
       "      <th>15</th>\n",
       "      <td>Angola</td>\n",
       "      <td>2009</td>\n",
       "      <td>43.00</td>\n",
       "      <td>Consumption</td>\n",
       "      <td>Africa</td>\n",
       "      <td>Middle Africa</td>\n",
       "      <td>Sub-Saharan Africa</td>\n",
       "      <td>All</td>\n",
       "    </tr>\n",
       "    <tr>\n",
       "      <th>17</th>\n",
       "      <td>Angola</td>\n",
       "      <td>2009</td>\n",
       "      <td>38.00</td>\n",
       "      <td>Consumption</td>\n",
       "      <td>Africa</td>\n",
       "      <td>Middle Africa</td>\n",
       "      <td>Sub-Saharan Africa</td>\n",
       "      <td>Rural</td>\n",
       "    </tr>\n",
       "    <tr>\n",
       "      <th>19</th>\n",
       "      <td>Angola</td>\n",
       "      <td>2009</td>\n",
       "      <td>39.00</td>\n",
       "      <td>Consumption</td>\n",
       "      <td>Africa</td>\n",
       "      <td>Middle Africa</td>\n",
       "      <td>Sub-Saharan Africa</td>\n",
       "      <td>Urban</td>\n",
       "    </tr>\n",
       "    <tr>\n",
       "      <th>20</th>\n",
       "      <td>Angola</td>\n",
       "      <td>2009</td>\n",
       "      <td>42.72</td>\n",
       "      <td>Consumption</td>\n",
       "      <td>Africa</td>\n",
       "      <td>Middle Africa</td>\n",
       "      <td>Sub-Saharan Africa</td>\n",
       "      <td>All</td>\n",
       "    </tr>\n",
       "    <tr>\n",
       "      <th>219</th>\n",
       "      <td>Armenia</td>\n",
       "      <td>2006</td>\n",
       "      <td>29.71</td>\n",
       "      <td>Consumption</td>\n",
       "      <td>Asia</td>\n",
       "      <td>Western Asia</td>\n",
       "      <td>Europe and Central Asia</td>\n",
       "      <td>All</td>\n",
       "    </tr>\n",
       "    <tr>\n",
       "      <th>222</th>\n",
       "      <td>Armenia</td>\n",
       "      <td>2007</td>\n",
       "      <td>31.23</td>\n",
       "      <td>Consumption</td>\n",
       "      <td>Asia</td>\n",
       "      <td>Western Asia</td>\n",
       "      <td>Europe and Central Asia</td>\n",
       "      <td>All</td>\n",
       "    </tr>\n",
       "  </tbody>\n",
       "</table>\n",
       "</div>"
      ],
      "text/plain": [
       "         country  year  gini_reported     resource region_un    region_un_sub  \\\n",
       "0    Afghanistan  2008          29.00  Consumption      Asia    Southern Asia   \n",
       "4        Albania  2008          29.98  Consumption    Europe  Southern Europe   \n",
       "5        Albania  2012          28.96  Consumption    Europe  Southern Europe   \n",
       "8        Algeria  2012          27.62  Consumption    Africa  Northern Africa   \n",
       "15        Angola  2009          43.00  Consumption    Africa    Middle Africa   \n",
       "17        Angola  2009          38.00  Consumption    Africa    Middle Africa   \n",
       "19        Angola  2009          39.00  Consumption    Africa    Middle Africa   \n",
       "20        Angola  2009          42.72  Consumption    Africa    Middle Africa   \n",
       "219      Armenia  2006          29.71  Consumption      Asia     Western Asia   \n",
       "222      Armenia  2007          31.23  Consumption      Asia     Western Asia   \n",
       "\n",
       "                        region_wb areacovr  \n",
       "0                      South Asia      All  \n",
       "4         Europe and Central Asia      All  \n",
       "5         Europe and Central Asia      All  \n",
       "8    Middle East and North Africa      All  \n",
       "15             Sub-Saharan Africa      All  \n",
       "17             Sub-Saharan Africa    Rural  \n",
       "19             Sub-Saharan Africa    Urban  \n",
       "20             Sub-Saharan Africa      All  \n",
       "219       Europe and Central Asia      All  \n",
       "222       Europe and Central Asia      All  "
      ]
     },
     "execution_count": 38,
     "metadata": {},
     "output_type": "execute_result"
    }
   ],
   "source": [
    "print(df_c.shape)\n",
    "print(df_i_n.shape)\n",
    "print(df_i_ng.shape)\n",
    "df_c.head(10)"
   ]
  },
  {
   "cell_type": "code",
   "execution_count": 39,
   "metadata": {},
   "outputs": [
    {
     "data": {
      "text/html": [
       "<div>\n",
       "<style scoped>\n",
       "    .dataframe tbody tr th:only-of-type {\n",
       "        vertical-align: middle;\n",
       "    }\n",
       "\n",
       "    .dataframe tbody tr th {\n",
       "        vertical-align: top;\n",
       "    }\n",
       "\n",
       "    .dataframe thead th {\n",
       "        text-align: right;\n",
       "    }\n",
       "</style>\n",
       "<table border=\"1\" class=\"dataframe\">\n",
       "  <thead>\n",
       "    <tr style=\"text-align: right;\">\n",
       "      <th></th>\n",
       "      <th>gini_reported</th>\n",
       "    </tr>\n",
       "    <tr>\n",
       "      <th>region_un</th>\n",
       "      <th></th>\n",
       "    </tr>\n",
       "  </thead>\n",
       "  <tbody>\n",
       "    <tr>\n",
       "      <th>Africa</th>\n",
       "      <td>41.785</td>\n",
       "    </tr>\n",
       "    <tr>\n",
       "      <th>Americas</th>\n",
       "      <td>38.030</td>\n",
       "    </tr>\n",
       "    <tr>\n",
       "      <th>Asia</th>\n",
       "      <td>35.780</td>\n",
       "    </tr>\n",
       "    <tr>\n",
       "      <th>Europe</th>\n",
       "      <td>29.730</td>\n",
       "    </tr>\n",
       "    <tr>\n",
       "      <th>Oceania</th>\n",
       "      <td>39.140</td>\n",
       "    </tr>\n",
       "  </tbody>\n",
       "</table>\n",
       "</div>"
      ],
      "text/plain": [
       "           gini_reported\n",
       "region_un               \n",
       "Africa            41.785\n",
       "Americas          38.030\n",
       "Asia              35.780\n",
       "Europe            29.730\n",
       "Oceania           39.140"
      ]
     },
     "execution_count": 39,
     "metadata": {},
     "output_type": "execute_result"
    }
   ],
   "source": [
    "df_consumption_region=df_c.groupby(['region_un']).agg({'gini_reported': 'median'})\n",
    "df_consumption_region"
   ]
  },
  {
   "cell_type": "code",
   "execution_count": 40,
   "metadata": {},
   "outputs": [
    {
     "data": {
      "text/html": [
       "<div>\n",
       "<style scoped>\n",
       "    .dataframe tbody tr th:only-of-type {\n",
       "        vertical-align: middle;\n",
       "    }\n",
       "\n",
       "    .dataframe tbody tr th {\n",
       "        vertical-align: top;\n",
       "    }\n",
       "\n",
       "    .dataframe thead th {\n",
       "        text-align: right;\n",
       "    }\n",
       "</style>\n",
       "<table border=\"1\" class=\"dataframe\">\n",
       "  <thead>\n",
       "    <tr style=\"text-align: right;\">\n",
       "      <th></th>\n",
       "      <th>region_un</th>\n",
       "      <th>gini_reported</th>\n",
       "      <th>gini_reported_region</th>\n",
       "      <th>diff_from_region</th>\n",
       "    </tr>\n",
       "    <tr>\n",
       "      <th>region_un_sub</th>\n",
       "      <th></th>\n",
       "      <th></th>\n",
       "      <th></th>\n",
       "      <th></th>\n",
       "    </tr>\n",
       "  </thead>\n",
       "  <tbody>\n",
       "    <tr>\n",
       "      <th>Eastern Africa</th>\n",
       "      <td>Africa</td>\n",
       "      <td>42.600</td>\n",
       "      <td>41.785</td>\n",
       "      <td>0.815</td>\n",
       "    </tr>\n",
       "    <tr>\n",
       "      <th>Middle Africa</th>\n",
       "      <td>Africa</td>\n",
       "      <td>42.410</td>\n",
       "      <td>41.785</td>\n",
       "      <td>0.625</td>\n",
       "    </tr>\n",
       "    <tr>\n",
       "      <th>Northern Africa</th>\n",
       "      <td>Africa</td>\n",
       "      <td>33.000</td>\n",
       "      <td>41.785</td>\n",
       "      <td>-8.785</td>\n",
       "    </tr>\n",
       "    <tr>\n",
       "      <th>Southern Africa</th>\n",
       "      <td>Africa</td>\n",
       "      <td>59.385</td>\n",
       "      <td>41.785</td>\n",
       "      <td>17.600</td>\n",
       "    </tr>\n",
       "    <tr>\n",
       "      <th>Western Africa</th>\n",
       "      <td>Africa</td>\n",
       "      <td>40.880</td>\n",
       "      <td>41.785</td>\n",
       "      <td>-0.905</td>\n",
       "    </tr>\n",
       "    <tr>\n",
       "      <th>Caribbean</th>\n",
       "      <td>Americas</td>\n",
       "      <td>37.860</td>\n",
       "      <td>38.030</td>\n",
       "      <td>-0.170</td>\n",
       "    </tr>\n",
       "    <tr>\n",
       "      <th>Central America</th>\n",
       "      <td>Americas</td>\n",
       "      <td>45.360</td>\n",
       "      <td>38.030</td>\n",
       "      <td>7.330</td>\n",
       "    </tr>\n",
       "    <tr>\n",
       "      <th>Northern America</th>\n",
       "      <td>Americas</td>\n",
       "      <td>28.700</td>\n",
       "      <td>38.030</td>\n",
       "      <td>-9.330</td>\n",
       "    </tr>\n",
       "    <tr>\n",
       "      <th>South America</th>\n",
       "      <td>Americas</td>\n",
       "      <td>53.000</td>\n",
       "      <td>38.030</td>\n",
       "      <td>14.970</td>\n",
       "    </tr>\n",
       "    <tr>\n",
       "      <th>Central Asia</th>\n",
       "      <td>Asia</td>\n",
       "      <td>28.800</td>\n",
       "      <td>35.780</td>\n",
       "      <td>-6.980</td>\n",
       "    </tr>\n",
       "    <tr>\n",
       "      <th>Eastern Asia</th>\n",
       "      <td>Asia</td>\n",
       "      <td>35.820</td>\n",
       "      <td>35.780</td>\n",
       "      <td>0.040</td>\n",
       "    </tr>\n",
       "    <tr>\n",
       "      <th>South-eastern Asia</th>\n",
       "      <td>Asia</td>\n",
       "      <td>37.000</td>\n",
       "      <td>35.780</td>\n",
       "      <td>1.220</td>\n",
       "    </tr>\n",
       "    <tr>\n",
       "      <th>Southern Asia</th>\n",
       "      <td>Asia</td>\n",
       "      <td>36.390</td>\n",
       "      <td>35.780</td>\n",
       "      <td>0.610</td>\n",
       "    </tr>\n",
       "    <tr>\n",
       "      <th>Western Asia</th>\n",
       "      <td>Asia</td>\n",
       "      <td>36.900</td>\n",
       "      <td>35.780</td>\n",
       "      <td>1.120</td>\n",
       "    </tr>\n",
       "    <tr>\n",
       "      <th>Eastern Europe</th>\n",
       "      <td>Europe</td>\n",
       "      <td>28.765</td>\n",
       "      <td>29.730</td>\n",
       "      <td>-0.965</td>\n",
       "    </tr>\n",
       "    <tr>\n",
       "      <th>Northern Europe</th>\n",
       "      <td>Europe</td>\n",
       "      <td>35.935</td>\n",
       "      <td>29.730</td>\n",
       "      <td>6.205</td>\n",
       "    </tr>\n",
       "    <tr>\n",
       "      <th>Southern Europe</th>\n",
       "      <td>Europe</td>\n",
       "      <td>30.040</td>\n",
       "      <td>29.730</td>\n",
       "      <td>0.310</td>\n",
       "    </tr>\n",
       "    <tr>\n",
       "      <th>Melanesia</th>\n",
       "      <td>Oceania</td>\n",
       "      <td>37.630</td>\n",
       "      <td>39.140</td>\n",
       "      <td>-1.510</td>\n",
       "    </tr>\n",
       "    <tr>\n",
       "      <th>Micronesia</th>\n",
       "      <td>Oceania</td>\n",
       "      <td>40.060</td>\n",
       "      <td>39.140</td>\n",
       "      <td>0.920</td>\n",
       "    </tr>\n",
       "    <tr>\n",
       "      <th>Polynesia</th>\n",
       "      <td>Oceania</td>\n",
       "      <td>39.140</td>\n",
       "      <td>39.140</td>\n",
       "      <td>0.000</td>\n",
       "    </tr>\n",
       "  </tbody>\n",
       "</table>\n",
       "</div>"
      ],
      "text/plain": [
       "                   region_un  gini_reported  gini_reported_region  \\\n",
       "region_un_sub                                                       \n",
       "Eastern Africa        Africa         42.600                41.785   \n",
       "Middle Africa         Africa         42.410                41.785   \n",
       "Northern Africa       Africa         33.000                41.785   \n",
       "Southern Africa       Africa         59.385                41.785   \n",
       "Western Africa        Africa         40.880                41.785   \n",
       "Caribbean           Americas         37.860                38.030   \n",
       "Central America     Americas         45.360                38.030   \n",
       "Northern America    Americas         28.700                38.030   \n",
       "South America       Americas         53.000                38.030   \n",
       "Central Asia            Asia         28.800                35.780   \n",
       "Eastern Asia            Asia         35.820                35.780   \n",
       "South-eastern Asia      Asia         37.000                35.780   \n",
       "Southern Asia           Asia         36.390                35.780   \n",
       "Western Asia            Asia         36.900                35.780   \n",
       "Eastern Europe        Europe         28.765                29.730   \n",
       "Northern Europe       Europe         35.935                29.730   \n",
       "Southern Europe       Europe         30.040                29.730   \n",
       "Melanesia            Oceania         37.630                39.140   \n",
       "Micronesia           Oceania         40.060                39.140   \n",
       "Polynesia            Oceania         39.140                39.140   \n",
       "\n",
       "                    diff_from_region  \n",
       "region_un_sub                         \n",
       "Eastern Africa                 0.815  \n",
       "Middle Africa                  0.625  \n",
       "Northern Africa               -8.785  \n",
       "Southern Africa               17.600  \n",
       "Western Africa                -0.905  \n",
       "Caribbean                     -0.170  \n",
       "Central America                7.330  \n",
       "Northern America              -9.330  \n",
       "South America                 14.970  \n",
       "Central Asia                  -6.980  \n",
       "Eastern Asia                   0.040  \n",
       "South-eastern Asia             1.220  \n",
       "Southern Asia                  0.610  \n",
       "Western Asia                   1.120  \n",
       "Eastern Europe                -0.965  \n",
       "Northern Europe                6.205  \n",
       "Southern Europe                0.310  \n",
       "Melanesia                     -1.510  \n",
       "Micronesia                     0.920  \n",
       "Polynesia                      0.000  "
      ]
     },
     "execution_count": 40,
     "metadata": {},
     "output_type": "execute_result"
    }
   ],
   "source": [
    "df_consumption_subregion=df_c.groupby(['region_un_sub']).agg({'region_un': 'first','gini_reported': 'median'})\n",
    "df_consumption_subregion=df_consumption_subregion.join(df_consumption_region, on='region_un', how='right', rsuffix='_region')\n",
    "df_consumption_subregion['diff_from_region']=df_consumption_subregion['gini_reported']-df_consumption_subregion['gini_reported_region']\n",
    "df_consumption_subregion"
   ]
  },
  {
   "cell_type": "code",
   "execution_count": 41,
   "metadata": {},
   "outputs": [
    {
     "data": {
      "text/html": [
       "<div>\n",
       "<style scoped>\n",
       "    .dataframe tbody tr th:only-of-type {\n",
       "        vertical-align: middle;\n",
       "    }\n",
       "\n",
       "    .dataframe tbody tr th {\n",
       "        vertical-align: top;\n",
       "    }\n",
       "\n",
       "    .dataframe thead th {\n",
       "        text-align: right;\n",
       "    }\n",
       "</style>\n",
       "<table border=\"1\" class=\"dataframe\">\n",
       "  <thead>\n",
       "    <tr style=\"text-align: right;\">\n",
       "      <th></th>\n",
       "      <th>region_un</th>\n",
       "      <th>region_un_sub</th>\n",
       "      <th>gini_reported</th>\n",
       "    </tr>\n",
       "    <tr>\n",
       "      <th>country</th>\n",
       "      <th></th>\n",
       "      <th></th>\n",
       "      <th></th>\n",
       "    </tr>\n",
       "  </thead>\n",
       "  <tbody>\n",
       "    <tr>\n",
       "      <th>Afghanistan</th>\n",
       "      <td>Asia</td>\n",
       "      <td>Southern Asia</td>\n",
       "      <td>29.000</td>\n",
       "    </tr>\n",
       "    <tr>\n",
       "      <th>Albania</th>\n",
       "      <td>Europe</td>\n",
       "      <td>Southern Europe</td>\n",
       "      <td>29.470</td>\n",
       "    </tr>\n",
       "    <tr>\n",
       "      <th>Algeria</th>\n",
       "      <td>Africa</td>\n",
       "      <td>Northern Africa</td>\n",
       "      <td>27.620</td>\n",
       "    </tr>\n",
       "    <tr>\n",
       "      <th>Angola</th>\n",
       "      <td>Africa</td>\n",
       "      <td>Middle Africa</td>\n",
       "      <td>40.860</td>\n",
       "    </tr>\n",
       "    <tr>\n",
       "      <th>Armenia</th>\n",
       "      <td>Asia</td>\n",
       "      <td>Western Asia</td>\n",
       "      <td>29.990</td>\n",
       "    </tr>\n",
       "    <tr>\n",
       "      <th>...</th>\n",
       "      <td>...</td>\n",
       "      <td>...</td>\n",
       "      <td>...</td>\n",
       "    </tr>\n",
       "    <tr>\n",
       "      <th>Vietnam</th>\n",
       "      <td>Asia</td>\n",
       "      <td>South-eastern Asia</td>\n",
       "      <td>35.585</td>\n",
       "    </tr>\n",
       "    <tr>\n",
       "      <th>West Bank and Gaza</th>\n",
       "      <td>Asia</td>\n",
       "      <td>Western Asia</td>\n",
       "      <td>34.460</td>\n",
       "    </tr>\n",
       "    <tr>\n",
       "      <th>Yemen</th>\n",
       "      <td>Asia</td>\n",
       "      <td>Western Asia</td>\n",
       "      <td>35.720</td>\n",
       "    </tr>\n",
       "    <tr>\n",
       "      <th>Zambia</th>\n",
       "      <td>Africa</td>\n",
       "      <td>Eastern Africa</td>\n",
       "      <td>55.620</td>\n",
       "    </tr>\n",
       "    <tr>\n",
       "      <th>Zimbabwe</th>\n",
       "      <td>Africa</td>\n",
       "      <td>Eastern Africa</td>\n",
       "      <td>40.650</td>\n",
       "    </tr>\n",
       "  </tbody>\n",
       "</table>\n",
       "<p>119 rows × 3 columns</p>\n",
       "</div>"
      ],
      "text/plain": [
       "                   region_un       region_un_sub  gini_reported\n",
       "country                                                        \n",
       "Afghanistan             Asia       Southern Asia         29.000\n",
       "Albania               Europe     Southern Europe         29.470\n",
       "Algeria               Africa     Northern Africa         27.620\n",
       "Angola                Africa       Middle Africa         40.860\n",
       "Armenia                 Asia        Western Asia         29.990\n",
       "...                      ...                 ...            ...\n",
       "Vietnam                 Asia  South-eastern Asia         35.585\n",
       "West Bank and Gaza      Asia        Western Asia         34.460\n",
       "Yemen                   Asia        Western Asia         35.720\n",
       "Zambia                Africa      Eastern Africa         55.620\n",
       "Zimbabwe              Africa      Eastern Africa         40.650\n",
       "\n",
       "[119 rows x 3 columns]"
      ]
     },
     "execution_count": 41,
     "metadata": {},
     "output_type": "execute_result"
    }
   ],
   "source": [
    "df_consumption_country=df_c.groupby(['country']).agg({'region_un': 'first','region_un_sub': 'first','gini_reported': 'median'})\n",
    "df_consumption_country"
   ]
  },
  {
   "cell_type": "code",
   "execution_count": 42,
   "metadata": {},
   "outputs": [
    {
     "data": {
      "text/html": [
       "<div>\n",
       "<style scoped>\n",
       "    .dataframe tbody tr th:only-of-type {\n",
       "        vertical-align: middle;\n",
       "    }\n",
       "\n",
       "    .dataframe tbody tr th {\n",
       "        vertical-align: top;\n",
       "    }\n",
       "\n",
       "    .dataframe thead th {\n",
       "        text-align: right;\n",
       "    }\n",
       "</style>\n",
       "<table border=\"1\" class=\"dataframe\">\n",
       "  <thead>\n",
       "    <tr style=\"text-align: right;\">\n",
       "      <th></th>\n",
       "      <th>gini_reported</th>\n",
       "    </tr>\n",
       "    <tr>\n",
       "      <th>region_un</th>\n",
       "      <th></th>\n",
       "    </tr>\n",
       "  </thead>\n",
       "  <tbody>\n",
       "    <tr>\n",
       "      <th>Africa</th>\n",
       "      <td>65.55</td>\n",
       "    </tr>\n",
       "    <tr>\n",
       "      <th>Americas</th>\n",
       "      <td>48.00</td>\n",
       "    </tr>\n",
       "    <tr>\n",
       "      <th>Asia</th>\n",
       "      <td>34.60</td>\n",
       "    </tr>\n",
       "    <tr>\n",
       "      <th>Europe</th>\n",
       "      <td>29.50</td>\n",
       "    </tr>\n",
       "    <tr>\n",
       "      <th>Oceania</th>\n",
       "      <td>33.30</td>\n",
       "    </tr>\n",
       "  </tbody>\n",
       "</table>\n",
       "</div>"
      ],
      "text/plain": [
       "           gini_reported\n",
       "region_un               \n",
       "Africa             65.55\n",
       "Americas           48.00\n",
       "Asia               34.60\n",
       "Europe             29.50\n",
       "Oceania            33.30"
      ]
     },
     "execution_count": 42,
     "metadata": {},
     "output_type": "execute_result"
    }
   ],
   "source": [
    "df_income_net_region=df_i_n.groupby(['region_un']).agg({'gini_reported': 'median'})\n",
    "df_income_net_region"
   ]
  },
  {
   "cell_type": "code",
   "execution_count": 43,
   "metadata": {},
   "outputs": [
    {
     "data": {
      "text/html": [
       "<div>\n",
       "<style scoped>\n",
       "    .dataframe tbody tr th:only-of-type {\n",
       "        vertical-align: middle;\n",
       "    }\n",
       "\n",
       "    .dataframe tbody tr th {\n",
       "        vertical-align: top;\n",
       "    }\n",
       "\n",
       "    .dataframe thead th {\n",
       "        text-align: right;\n",
       "    }\n",
       "</style>\n",
       "<table border=\"1\" class=\"dataframe\">\n",
       "  <thead>\n",
       "    <tr style=\"text-align: right;\">\n",
       "      <th></th>\n",
       "      <th>region_un</th>\n",
       "      <th>gini_reported</th>\n",
       "      <th>gini_reported_region</th>\n",
       "      <th>diff_from_region</th>\n",
       "    </tr>\n",
       "    <tr>\n",
       "      <th>region_un_sub</th>\n",
       "      <th></th>\n",
       "      <th></th>\n",
       "      <th></th>\n",
       "      <th></th>\n",
       "    </tr>\n",
       "  </thead>\n",
       "  <tbody>\n",
       "    <tr>\n",
       "      <th>Eastern Africa</th>\n",
       "      <td>Africa</td>\n",
       "      <td>34.65</td>\n",
       "      <td>65.55</td>\n",
       "      <td>-30.90</td>\n",
       "    </tr>\n",
       "    <tr>\n",
       "      <th>Northern Africa</th>\n",
       "      <td>Africa</td>\n",
       "      <td>52.60</td>\n",
       "      <td>65.55</td>\n",
       "      <td>-12.95</td>\n",
       "    </tr>\n",
       "    <tr>\n",
       "      <th>Southern Africa</th>\n",
       "      <td>Africa</td>\n",
       "      <td>65.90</td>\n",
       "      <td>65.55</td>\n",
       "      <td>0.35</td>\n",
       "    </tr>\n",
       "    <tr>\n",
       "      <th>Caribbean</th>\n",
       "      <td>Americas</td>\n",
       "      <td>54.70</td>\n",
       "      <td>48.00</td>\n",
       "      <td>6.70</td>\n",
       "    </tr>\n",
       "    <tr>\n",
       "      <th>Central America</th>\n",
       "      <td>Americas</td>\n",
       "      <td>48.40</td>\n",
       "      <td>48.00</td>\n",
       "      <td>0.40</td>\n",
       "    </tr>\n",
       "    <tr>\n",
       "      <th>Northern America</th>\n",
       "      <td>Americas</td>\n",
       "      <td>33.80</td>\n",
       "      <td>48.00</td>\n",
       "      <td>-14.20</td>\n",
       "    </tr>\n",
       "    <tr>\n",
       "      <th>South America</th>\n",
       "      <td>Americas</td>\n",
       "      <td>48.50</td>\n",
       "      <td>48.00</td>\n",
       "      <td>0.50</td>\n",
       "    </tr>\n",
       "    <tr>\n",
       "      <th>Central Asia</th>\n",
       "      <td>Asia</td>\n",
       "      <td>39.70</td>\n",
       "      <td>34.60</td>\n",
       "      <td>5.10</td>\n",
       "    </tr>\n",
       "    <tr>\n",
       "      <th>Eastern Asia</th>\n",
       "      <td>Asia</td>\n",
       "      <td>33.00</td>\n",
       "      <td>34.60</td>\n",
       "      <td>-1.60</td>\n",
       "    </tr>\n",
       "    <tr>\n",
       "      <th>South-eastern Asia</th>\n",
       "      <td>Asia</td>\n",
       "      <td>39.00</td>\n",
       "      <td>34.60</td>\n",
       "      <td>4.40</td>\n",
       "    </tr>\n",
       "    <tr>\n",
       "      <th>Southern Asia</th>\n",
       "      <td>Asia</td>\n",
       "      <td>50.30</td>\n",
       "      <td>34.60</td>\n",
       "      <td>15.70</td>\n",
       "    </tr>\n",
       "    <tr>\n",
       "      <th>Western Asia</th>\n",
       "      <td>Asia</td>\n",
       "      <td>39.10</td>\n",
       "      <td>34.60</td>\n",
       "      <td>4.50</td>\n",
       "    </tr>\n",
       "    <tr>\n",
       "      <th>Eastern Europe</th>\n",
       "      <td>Europe</td>\n",
       "      <td>28.25</td>\n",
       "      <td>29.50</td>\n",
       "      <td>-1.25</td>\n",
       "    </tr>\n",
       "    <tr>\n",
       "      <th>Northern Europe</th>\n",
       "      <td>Europe</td>\n",
       "      <td>29.55</td>\n",
       "      <td>29.50</td>\n",
       "      <td>0.05</td>\n",
       "    </tr>\n",
       "    <tr>\n",
       "      <th>Southern Europe</th>\n",
       "      <td>Europe</td>\n",
       "      <td>33.10</td>\n",
       "      <td>29.50</td>\n",
       "      <td>3.60</td>\n",
       "    </tr>\n",
       "    <tr>\n",
       "      <th>Western Europe</th>\n",
       "      <td>Europe</td>\n",
       "      <td>28.70</td>\n",
       "      <td>29.50</td>\n",
       "      <td>-0.80</td>\n",
       "    </tr>\n",
       "    <tr>\n",
       "      <th>Australia and New Zealand</th>\n",
       "      <td>Oceania</td>\n",
       "      <td>33.30</td>\n",
       "      <td>33.30</td>\n",
       "      <td>0.00</td>\n",
       "    </tr>\n",
       "  </tbody>\n",
       "</table>\n",
       "</div>"
      ],
      "text/plain": [
       "                          region_un  gini_reported  gini_reported_region  \\\n",
       "region_un_sub                                                              \n",
       "Eastern Africa               Africa          34.65                 65.55   \n",
       "Northern Africa              Africa          52.60                 65.55   \n",
       "Southern Africa              Africa          65.90                 65.55   \n",
       "Caribbean                  Americas          54.70                 48.00   \n",
       "Central America            Americas          48.40                 48.00   \n",
       "Northern America           Americas          33.80                 48.00   \n",
       "South America              Americas          48.50                 48.00   \n",
       "Central Asia                   Asia          39.70                 34.60   \n",
       "Eastern Asia                   Asia          33.00                 34.60   \n",
       "South-eastern Asia             Asia          39.00                 34.60   \n",
       "Southern Asia                  Asia          50.30                 34.60   \n",
       "Western Asia                   Asia          39.10                 34.60   \n",
       "Eastern Europe               Europe          28.25                 29.50   \n",
       "Northern Europe              Europe          29.55                 29.50   \n",
       "Southern Europe              Europe          33.10                 29.50   \n",
       "Western Europe               Europe          28.70                 29.50   \n",
       "Australia and New Zealand   Oceania          33.30                 33.30   \n",
       "\n",
       "                           diff_from_region  \n",
       "region_un_sub                                \n",
       "Eastern Africa                       -30.90  \n",
       "Northern Africa                      -12.95  \n",
       "Southern Africa                        0.35  \n",
       "Caribbean                              6.70  \n",
       "Central America                        0.40  \n",
       "Northern America                     -14.20  \n",
       "South America                          0.50  \n",
       "Central Asia                           5.10  \n",
       "Eastern Asia                          -1.60  \n",
       "South-eastern Asia                     4.40  \n",
       "Southern Asia                         15.70  \n",
       "Western Asia                           4.50  \n",
       "Eastern Europe                        -1.25  \n",
       "Northern Europe                        0.05  \n",
       "Southern Europe                        3.60  \n",
       "Western Europe                        -0.80  \n",
       "Australia and New Zealand              0.00  "
      ]
     },
     "execution_count": 43,
     "metadata": {},
     "output_type": "execute_result"
    }
   ],
   "source": [
    "df_income_net_subregion=df_i_n.groupby(['region_un_sub']).agg({'region_un': 'first','gini_reported': 'median'})\n",
    "df_income_net_subregion=df_income_net_subregion.join(df_income_net_region, on='region_un', how='right', rsuffix='_region')\n",
    "df_income_net_subregion['diff_from_region']=df_income_net_subregion['gini_reported']-df_income_net_subregion['gini_reported_region']\n",
    "df_income_net_subregion"
   ]
  },
  {
   "cell_type": "code",
   "execution_count": 44,
   "metadata": {},
   "outputs": [
    {
     "data": {
      "text/html": [
       "<div>\n",
       "<style scoped>\n",
       "    .dataframe tbody tr th:only-of-type {\n",
       "        vertical-align: middle;\n",
       "    }\n",
       "\n",
       "    .dataframe tbody tr th {\n",
       "        vertical-align: top;\n",
       "    }\n",
       "\n",
       "    .dataframe thead th {\n",
       "        text-align: right;\n",
       "    }\n",
       "</style>\n",
       "<table border=\"1\" class=\"dataframe\">\n",
       "  <thead>\n",
       "    <tr style=\"text-align: right;\">\n",
       "      <th></th>\n",
       "      <th>region_un</th>\n",
       "      <th>region_un_sub</th>\n",
       "      <th>gini_reported</th>\n",
       "    </tr>\n",
       "    <tr>\n",
       "      <th>country</th>\n",
       "      <th></th>\n",
       "      <th></th>\n",
       "      <th></th>\n",
       "    </tr>\n",
       "  </thead>\n",
       "  <tbody>\n",
       "    <tr>\n",
       "      <th>Argentina</th>\n",
       "      <td>Americas</td>\n",
       "      <td>South America</td>\n",
       "      <td>50.05</td>\n",
       "    </tr>\n",
       "    <tr>\n",
       "      <th>Armenia</th>\n",
       "      <td>Asia</td>\n",
       "      <td>Western Asia</td>\n",
       "      <td>40.00</td>\n",
       "    </tr>\n",
       "    <tr>\n",
       "      <th>Australia</th>\n",
       "      <td>Oceania</td>\n",
       "      <td>Australia and New Zealand</td>\n",
       "      <td>33.40</td>\n",
       "    </tr>\n",
       "    <tr>\n",
       "      <th>Austria</th>\n",
       "      <td>Europe</td>\n",
       "      <td>Western Europe</td>\n",
       "      <td>27.80</td>\n",
       "    </tr>\n",
       "    <tr>\n",
       "      <th>Belarus</th>\n",
       "      <td>Europe</td>\n",
       "      <td>Eastern Europe</td>\n",
       "      <td>27.90</td>\n",
       "    </tr>\n",
       "    <tr>\n",
       "      <th>...</th>\n",
       "      <td>...</td>\n",
       "      <td>...</td>\n",
       "      <td>...</td>\n",
       "    </tr>\n",
       "    <tr>\n",
       "      <th>Turkey</th>\n",
       "      <td>Asia</td>\n",
       "      <td>Western Asia</td>\n",
       "      <td>41.80</td>\n",
       "    </tr>\n",
       "    <tr>\n",
       "      <th>United Kingdom</th>\n",
       "      <td>Europe</td>\n",
       "      <td>Northern Europe</td>\n",
       "      <td>34.20</td>\n",
       "    </tr>\n",
       "    <tr>\n",
       "      <th>United States</th>\n",
       "      <td>Americas</td>\n",
       "      <td>Northern America</td>\n",
       "      <td>38.65</td>\n",
       "    </tr>\n",
       "    <tr>\n",
       "      <th>Uruguay</th>\n",
       "      <td>Americas</td>\n",
       "      <td>South America</td>\n",
       "      <td>40.20</td>\n",
       "    </tr>\n",
       "    <tr>\n",
       "      <th>Venezuela</th>\n",
       "      <td>Americas</td>\n",
       "      <td>South America</td>\n",
       "      <td>40.95</td>\n",
       "    </tr>\n",
       "  </tbody>\n",
       "</table>\n",
       "<p>74 rows × 3 columns</p>\n",
       "</div>"
      ],
      "text/plain": [
       "               region_un              region_un_sub  gini_reported\n",
       "country                                                           \n",
       "Argentina       Americas              South America          50.05\n",
       "Armenia             Asia               Western Asia          40.00\n",
       "Australia        Oceania  Australia and New Zealand          33.40\n",
       "Austria           Europe             Western Europe          27.80\n",
       "Belarus           Europe             Eastern Europe          27.90\n",
       "...                  ...                        ...            ...\n",
       "Turkey              Asia               Western Asia          41.80\n",
       "United Kingdom    Europe            Northern Europe          34.20\n",
       "United States   Americas           Northern America          38.65\n",
       "Uruguay         Americas              South America          40.20\n",
       "Venezuela       Americas              South America          40.95\n",
       "\n",
       "[74 rows x 3 columns]"
      ]
     },
     "execution_count": 44,
     "metadata": {},
     "output_type": "execute_result"
    }
   ],
   "source": [
    "df_income_net_country=df_i_n.groupby(['country']).agg({'region_un': 'first','region_un_sub': 'first','gini_reported': 'median'})\n",
    "df_income_net_country"
   ]
  },
  {
   "cell_type": "code",
   "execution_count": 45,
   "metadata": {},
   "outputs": [
    {
     "data": {
      "text/html": [
       "<div>\n",
       "<style scoped>\n",
       "    .dataframe tbody tr th:only-of-type {\n",
       "        vertical-align: middle;\n",
       "    }\n",
       "\n",
       "    .dataframe tbody tr th {\n",
       "        vertical-align: top;\n",
       "    }\n",
       "\n",
       "    .dataframe thead th {\n",
       "        text-align: right;\n",
       "    }\n",
       "</style>\n",
       "<table border=\"1\" class=\"dataframe\">\n",
       "  <thead>\n",
       "    <tr style=\"text-align: right;\">\n",
       "      <th></th>\n",
       "      <th>gini_reported</th>\n",
       "    </tr>\n",
       "    <tr>\n",
       "      <th>region_un</th>\n",
       "      <th></th>\n",
       "    </tr>\n",
       "  </thead>\n",
       "  <tbody>\n",
       "    <tr>\n",
       "      <th>Africa</th>\n",
       "      <td>50.00</td>\n",
       "    </tr>\n",
       "    <tr>\n",
       "      <th>Americas</th>\n",
       "      <td>47.61</td>\n",
       "    </tr>\n",
       "    <tr>\n",
       "      <th>Asia</th>\n",
       "      <td>40.60</td>\n",
       "    </tr>\n",
       "    <tr>\n",
       "      <th>Europe</th>\n",
       "      <td>31.92</td>\n",
       "    </tr>\n",
       "    <tr>\n",
       "      <th>Oceania</th>\n",
       "      <td>31.40</td>\n",
       "    </tr>\n",
       "  </tbody>\n",
       "</table>\n",
       "</div>"
      ],
      "text/plain": [
       "           gini_reported\n",
       "region_un               \n",
       "Africa             50.00\n",
       "Americas           47.61\n",
       "Asia               40.60\n",
       "Europe             31.92\n",
       "Oceania            31.40"
      ]
     },
     "execution_count": 45,
     "metadata": {},
     "output_type": "execute_result"
    }
   ],
   "source": [
    "df_income_netgross_region=df_i_ng.groupby(['region_un']).agg({'gini_reported': 'median'})\n",
    "df_income_netgross_region.head()"
   ]
  },
  {
   "cell_type": "code",
   "execution_count": 46,
   "metadata": {},
   "outputs": [
    {
     "data": {
      "text/html": [
       "<div>\n",
       "<style scoped>\n",
       "    .dataframe tbody tr th:only-of-type {\n",
       "        vertical-align: middle;\n",
       "    }\n",
       "\n",
       "    .dataframe tbody tr th {\n",
       "        vertical-align: top;\n",
       "    }\n",
       "\n",
       "    .dataframe thead th {\n",
       "        text-align: right;\n",
       "    }\n",
       "</style>\n",
       "<table border=\"1\" class=\"dataframe\">\n",
       "  <thead>\n",
       "    <tr style=\"text-align: right;\">\n",
       "      <th></th>\n",
       "      <th>region_un</th>\n",
       "      <th>gini_reported</th>\n",
       "      <th>gini_reported_region</th>\n",
       "      <th>diff_from_region</th>\n",
       "    </tr>\n",
       "    <tr>\n",
       "      <th>region_un_sub</th>\n",
       "      <th></th>\n",
       "      <th></th>\n",
       "      <th></th>\n",
       "      <th></th>\n",
       "    </tr>\n",
       "  </thead>\n",
       "  <tbody>\n",
       "    <tr>\n",
       "      <th>Eastern Africa</th>\n",
       "      <td>Africa</td>\n",
       "      <td>46.820</td>\n",
       "      <td>50.00</td>\n",
       "      <td>-3.180</td>\n",
       "    </tr>\n",
       "    <tr>\n",
       "      <th>Middle Africa</th>\n",
       "      <td>Africa</td>\n",
       "      <td>55.000</td>\n",
       "      <td>50.00</td>\n",
       "      <td>5.000</td>\n",
       "    </tr>\n",
       "    <tr>\n",
       "      <th>Western Africa</th>\n",
       "      <td>Africa</td>\n",
       "      <td>48.800</td>\n",
       "      <td>50.00</td>\n",
       "      <td>-1.200</td>\n",
       "    </tr>\n",
       "    <tr>\n",
       "      <th>Caribbean</th>\n",
       "      <td>Americas</td>\n",
       "      <td>46.500</td>\n",
       "      <td>47.61</td>\n",
       "      <td>-1.110</td>\n",
       "    </tr>\n",
       "    <tr>\n",
       "      <th>Central America</th>\n",
       "      <td>Americas</td>\n",
       "      <td>48.700</td>\n",
       "      <td>47.61</td>\n",
       "      <td>1.090</td>\n",
       "    </tr>\n",
       "    <tr>\n",
       "      <th>Northern America</th>\n",
       "      <td>Americas</td>\n",
       "      <td>40.410</td>\n",
       "      <td>47.61</td>\n",
       "      <td>-7.200</td>\n",
       "    </tr>\n",
       "    <tr>\n",
       "      <th>South America</th>\n",
       "      <td>Americas</td>\n",
       "      <td>46.700</td>\n",
       "      <td>47.61</td>\n",
       "      <td>-0.910</td>\n",
       "    </tr>\n",
       "    <tr>\n",
       "      <th>Eastern Asia</th>\n",
       "      <td>Asia</td>\n",
       "      <td>47.250</td>\n",
       "      <td>40.60</td>\n",
       "      <td>6.650</td>\n",
       "    </tr>\n",
       "    <tr>\n",
       "      <th>South-eastern Asia</th>\n",
       "      <td>Asia</td>\n",
       "      <td>46.050</td>\n",
       "      <td>40.60</td>\n",
       "      <td>5.450</td>\n",
       "    </tr>\n",
       "    <tr>\n",
       "      <th>Southern Asia</th>\n",
       "      <td>Asia</td>\n",
       "      <td>45.800</td>\n",
       "      <td>40.60</td>\n",
       "      <td>5.200</td>\n",
       "    </tr>\n",
       "    <tr>\n",
       "      <th>Western Asia</th>\n",
       "      <td>Asia</td>\n",
       "      <td>39.000</td>\n",
       "      <td>40.60</td>\n",
       "      <td>-1.600</td>\n",
       "    </tr>\n",
       "    <tr>\n",
       "      <th>Eastern Europe</th>\n",
       "      <td>Europe</td>\n",
       "      <td>31.500</td>\n",
       "      <td>31.92</td>\n",
       "      <td>-0.420</td>\n",
       "    </tr>\n",
       "    <tr>\n",
       "      <th>Northern Europe</th>\n",
       "      <td>Europe</td>\n",
       "      <td>31.180</td>\n",
       "      <td>31.92</td>\n",
       "      <td>-0.740</td>\n",
       "    </tr>\n",
       "    <tr>\n",
       "      <th>Southern Europe</th>\n",
       "      <td>Europe</td>\n",
       "      <td>34.660</td>\n",
       "      <td>31.92</td>\n",
       "      <td>2.740</td>\n",
       "    </tr>\n",
       "    <tr>\n",
       "      <th>Western Europe</th>\n",
       "      <td>Europe</td>\n",
       "      <td>30.875</td>\n",
       "      <td>31.92</td>\n",
       "      <td>-1.045</td>\n",
       "    </tr>\n",
       "    <tr>\n",
       "      <th>Australia and New Zealand</th>\n",
       "      <td>Oceania</td>\n",
       "      <td>31.400</td>\n",
       "      <td>31.40</td>\n",
       "      <td>0.000</td>\n",
       "    </tr>\n",
       "  </tbody>\n",
       "</table>\n",
       "</div>"
      ],
      "text/plain": [
       "                          region_un  gini_reported  gini_reported_region  \\\n",
       "region_un_sub                                                              \n",
       "Eastern Africa               Africa         46.820                 50.00   \n",
       "Middle Africa                Africa         55.000                 50.00   \n",
       "Western Africa               Africa         48.800                 50.00   \n",
       "Caribbean                  Americas         46.500                 47.61   \n",
       "Central America            Americas         48.700                 47.61   \n",
       "Northern America           Americas         40.410                 47.61   \n",
       "South America              Americas         46.700                 47.61   \n",
       "Eastern Asia                   Asia         47.250                 40.60   \n",
       "South-eastern Asia             Asia         46.050                 40.60   \n",
       "Southern Asia                  Asia         45.800                 40.60   \n",
       "Western Asia                   Asia         39.000                 40.60   \n",
       "Eastern Europe               Europe         31.500                 31.92   \n",
       "Northern Europe              Europe         31.180                 31.92   \n",
       "Southern Europe              Europe         34.660                 31.92   \n",
       "Western Europe               Europe         30.875                 31.92   \n",
       "Australia and New Zealand   Oceania         31.400                 31.40   \n",
       "\n",
       "                           diff_from_region  \n",
       "region_un_sub                                \n",
       "Eastern Africa                       -3.180  \n",
       "Middle Africa                         5.000  \n",
       "Western Africa                       -1.200  \n",
       "Caribbean                            -1.110  \n",
       "Central America                       1.090  \n",
       "Northern America                     -7.200  \n",
       "South America                        -0.910  \n",
       "Eastern Asia                          6.650  \n",
       "South-eastern Asia                    5.450  \n",
       "Southern Asia                         5.200  \n",
       "Western Asia                         -1.600  \n",
       "Eastern Europe                       -0.420  \n",
       "Northern Europe                      -0.740  \n",
       "Southern Europe                       2.740  \n",
       "Western Europe                       -1.045  \n",
       "Australia and New Zealand             0.000  "
      ]
     },
     "execution_count": 46,
     "metadata": {},
     "output_type": "execute_result"
    }
   ],
   "source": [
    "df_income_netgross_subregion=df_i_ng.groupby(['region_un_sub']).agg({'region_un': 'first','gini_reported': 'median'})\n",
    "df_income_netgross_subregion=df_income_netgross_subregion.join(df_income_netgross_region, on='region_un', how='right', rsuffix='_region')\n",
    "df_income_netgross_subregion['diff_from_region']=df_income_netgross_subregion['gini_reported']-df_income_netgross_subregion['gini_reported_region']\n",
    "df_income_netgross_subregion"
   ]
  },
  {
   "cell_type": "code",
   "execution_count": 47,
   "metadata": {},
   "outputs": [
    {
     "data": {
      "text/html": [
       "<div>\n",
       "<style scoped>\n",
       "    .dataframe tbody tr th:only-of-type {\n",
       "        vertical-align: middle;\n",
       "    }\n",
       "\n",
       "    .dataframe tbody tr th {\n",
       "        vertical-align: top;\n",
       "    }\n",
       "\n",
       "    .dataframe thead th {\n",
       "        text-align: right;\n",
       "    }\n",
       "</style>\n",
       "<table border=\"1\" class=\"dataframe\">\n",
       "  <thead>\n",
       "    <tr style=\"text-align: right;\">\n",
       "      <th></th>\n",
       "      <th>region_un</th>\n",
       "      <th>region_un_sub</th>\n",
       "      <th>gini_reported</th>\n",
       "    </tr>\n",
       "    <tr>\n",
       "      <th>country</th>\n",
       "      <th></th>\n",
       "      <th></th>\n",
       "      <th></th>\n",
       "    </tr>\n",
       "  </thead>\n",
       "  <tbody>\n",
       "    <tr>\n",
       "      <th>Angola</th>\n",
       "      <td>Africa</td>\n",
       "      <td>Middle Africa</td>\n",
       "      <td>55.00</td>\n",
       "    </tr>\n",
       "    <tr>\n",
       "      <th>Argentina</th>\n",
       "      <td>Americas</td>\n",
       "      <td>South America</td>\n",
       "      <td>42.05</td>\n",
       "    </tr>\n",
       "    <tr>\n",
       "      <th>Australia</th>\n",
       "      <td>Oceania</td>\n",
       "      <td>Australia and New Zealand</td>\n",
       "      <td>31.40</td>\n",
       "    </tr>\n",
       "    <tr>\n",
       "      <th>Austria</th>\n",
       "      <td>Europe</td>\n",
       "      <td>Western Europe</td>\n",
       "      <td>30.53</td>\n",
       "    </tr>\n",
       "    <tr>\n",
       "      <th>Bangladesh</th>\n",
       "      <td>Asia</td>\n",
       "      <td>Southern Asia</td>\n",
       "      <td>45.20</td>\n",
       "    </tr>\n",
       "  </tbody>\n",
       "</table>\n",
       "</div>"
      ],
      "text/plain": [
       "           region_un              region_un_sub  gini_reported\n",
       "country                                                       \n",
       "Angola        Africa              Middle Africa          55.00\n",
       "Argentina   Americas              South America          42.05\n",
       "Australia    Oceania  Australia and New Zealand          31.40\n",
       "Austria       Europe             Western Europe          30.53\n",
       "Bangladesh      Asia              Southern Asia          45.20"
      ]
     },
     "execution_count": 47,
     "metadata": {},
     "output_type": "execute_result"
    }
   ],
   "source": [
    "df_income_netgross_country=df_i_ng.groupby(['country']).agg({'region_un': 'first','region_un_sub': 'first','gini_reported': 'median'})\n",
    "df_income_netgross_country.head()"
   ]
  },
  {
   "cell_type": "code",
   "execution_count": null,
   "metadata": {},
   "outputs": [],
   "source": []
  },
  {
   "cell_type": "code",
   "execution_count": 48,
   "metadata": {},
   "outputs": [
    {
     "data": {
      "image/png": "[encoded data removed]",
      "text/plain": [
       "<Figure size 720x720 with 1 Axes>"
      ]
     },
     "metadata": {
      "needs_background": "light"
     },
     "output_type": "display_data"
    }
   ],
   "source": [
    "plt.figure(figsize=(10,10))\n",
    "plot_consumption=sns.stripplot(y='gini_reported', x='region_un',\n",
    "                   data=df_consumption_subregion, \n",
    "                   jitter=True,\n",
    "                   marker='o', \n",
    "                   color='black')\n",
    "plot_consumption=sns.boxplot(y='gini_reported_region', x='region_un', \n",
    "                   data=df_consumption_subregion)\n",
    "\n",
    "plot_consumption.set_title(\"Gini Reported by UN Region based on Consumption\", fontsize=15)\n",
    "plot_consumption.set_xlabel (\"UN Region\")\n",
    "plot_consumption.set_ylabel (\"Gini Reported\")\n",
    "plt.show()"
   ]
  },
  {
   "cell_type": "code",
   "execution_count": 49,
   "metadata": {},
   "outputs": [
    {
     "data": {
      "image/png": "[encoded data removed]",
      "text/plain": [
       "<Figure size 720x720 with 1 Axes>"
      ]
     },
     "metadata": {
      "needs_background": "light"
     },
     "output_type": "display_data"
    }
   ],
   "source": [
    "plt.figure(figsize=(10,10))\n",
    "bplot_income_net=sns.stripplot(y='gini_reported', x='region_un', \n",
    "                   data=df_income_net_subregion, \n",
    "                   jitter=True, \n",
    "                   marker='o', \n",
    "                   color='black')\n",
    "plot_income_net=sns.boxplot(y='gini_reported_region', x='region_un', \n",
    "                   data=df_income_net_subregion)\n",
    "\n",
    "bplot_income_net.set_title(\"Gini Reported by UN Region based on Income (Net)\", fontsize=15)\n",
    "bplot_income_net.set_xlabel (\"UN Region\")\n",
    "bplot_income_net.set_ylabel (\"Gini Reported\")\n",
    "plt.show()"
   ]
  },
  {
   "cell_type": "code",
   "execution_count": 50,
   "metadata": {},
   "outputs": [
    {
     "data": {
      "image/png": "[encoded data removed]",
      "text/plain": [
       "<Figure size 720x720 with 1 Axes>"
      ]
     },
     "metadata": {
      "needs_background": "light"
     },
     "output_type": "display_data"
    }
   ],
   "source": [
    "plt.figure(figsize=(10,10))\n",
    "bplot_income_netgross=sns.stripplot(y='gini_reported', x='region_un', \n",
    "                   data=df_income_netgross_subregion, \n",
    "                   jitter=True, \n",
    "                   marker='o', \n",
    "                   color='black')\n",
    "plot_income_netgross=sns.boxplot(y='gini_reported_region', x='region_un', \n",
    "                   data=df_income_netgross_subregion)\n",
    "\n",
    "bplot_income_netgross.set_title(\"Gini Reported by UN Region based on Income (Net/Gross)\", fontsize=15)\n",
    "bplot_income_netgross.set_xlabel (\"UN Region\")\n",
    "bplot_income_netgross.set_ylabel (\"Gini Reported\")\n",
    "plt.show()"
   ]
  },
  {
   "cell_type": "code",
   "execution_count": 51,
   "metadata": {},
   "outputs": [],
   "source": [
    "Africa_consumption = df_consumption_country.loc[df_consumption_country['region_un'] == 'Africa']\n",
    "Africa_income_netgross = df_income_netgross_country.loc[df_income_netgross_country['region_un'] == 'Africa']\n",
    "Africa_income_net = df_income_net_country.loc[df_income_net_country['region_un'] == 'Africa']\n",
    "\n",
    "Americas_consumption = df_consumption_country.loc[df_consumption_country['region_un'] == 'Americas']\n",
    "Americas_income_netgross = df_income_netgross_country.loc[df_income_netgross_country['region_un'] == 'Americas']\n",
    "Americas_income_net = df_income_net_country.loc[df_income_net_country['region_un'] == 'Americas']\n",
    "\n",
    "Asia_consumption = df_consumption_country.loc[df_consumption_country['region_un'] == 'Asia']\n",
    "Asia_income_netgross = df_income_netgross_country.loc[df_income_netgross_country['region_un'] == 'Asia']\n",
    "Asia_income_net = df_income_net_country.loc[df_income_net_country['region_un'] == 'Asia']\n",
    "\n",
    "Europe_consumption = df_consumption_country.loc[df_consumption_country['region_un'] == 'Europe']\n",
    "Europe_income_netgross = df_income_netgross_country.loc[df_income_netgross_country['region_un'] == 'Europe']\n",
    "Europe_income_net = df_income_net_country.loc[df_income_net_country['region_un'] == 'Europe']\n",
    "\n",
    "Oceania_consumption = df_consumption_country.loc[df_consumption_country['region_un'] == 'Oceania']\n",
    "Oceania_income_netgross = df_income_netgross_country.loc[df_income_netgross_country['region_un'] == 'Oceania']\n",
    "Oceania_income_net = df_income_net_country.loc[df_income_net_country['region_un'] == 'Oceania']"
   ]
  },
  {
   "cell_type": "code",
   "execution_count": 52,
   "metadata": {},
   "outputs": [
    {
     "data": {
      "image/png": "[encoded data removed]",
      "text/plain": [
       "<Figure size 720x720 with 1 Axes>"
      ]
     },
     "metadata": {
      "needs_background": "light"
     },
     "output_type": "display_data"
    }
   ],
   "source": [
    "plt.figure(figsize=(10,10))\n",
    "plot_Africa_consumption=sns.barplot(y='gini_reported', x='region_un_sub', \n",
    "                   data=Africa_consumption, \n",
    "                   palette='rainbow',)\n",
    "\n",
    "plot_Africa_consumption.set_title(\"Gini Reported in each Subregion in Africa based on Consumption\", fontsize=15)\n",
    "plot_Africa_consumption.set_xlabel (\"UN Subregion\")\n",
    "plot_Africa_consumption.set_ylabel (\"Gini Reported\")\n",
    "plt.show()"
   ]
  },
  {
   "cell_type": "code",
   "execution_count": 53,
   "metadata": {},
   "outputs": [
    {
     "data": {
      "image/png": "[encoded data removed]",
      "text/plain": [
       "<Figure size 720x720 with 1 Axes>"
      ]
     },
     "metadata": {
      "needs_background": "light"
     },
     "output_type": "display_data"
    }
   ],
   "source": [
    "plt.figure(figsize=(10,10))\n",
    "\n",
    "plot_Africa_income_netgross=sns.barplot(y='gini_reported', x='region_un_sub', \n",
    "                   data=Africa_income_netgross, \n",
    "                   palette='rainbow',)\n",
    "\n",
    "plot_Africa_income_netgross.set_title(\"Gini Reported in each Subregion in Africa based on Income (Net/Gross)\", fontsize=15)\n",
    "plot_Africa_income_netgross.set_xlabel (\"UN Subregion\")\n",
    "plot_Africa_income_netgross.set_ylabel (\"Gini Reported\")\n",
    "plt.show()"
   ]
  },
  {
   "cell_type": "code",
   "execution_count": 54,
   "metadata": {},
   "outputs": [
    {
     "data": {
      "image/png": "[encoded data removed]",
      "text/plain": [
       "<Figure size 720x720 with 1 Axes>"
      ]
     },
     "metadata": {
      "needs_background": "light"
     },
     "output_type": "display_data"
    }
   ],
   "source": [
    "plt.figure(figsize=(10,10))\n",
    "\n",
    "plot_Africa_income_net=sns.barplot(y='gini_reported', x='region_un_sub', \n",
    "                   data=Africa_income_net, \n",
    "                   palette='rainbow',)\n",
    "\n",
    "plot_Africa_income_net.set_title(\"Gini Reported in each Subregion in Africa based on Income (Gross)\", fontsize=15)\n",
    "plot_Africa_income_net.set_xlabel (\"UN Subregion\")\n",
    "plot_Africa_income_net.set_ylabel (\"Differnce in Gini Reported\")\n",
    "plt.show()"
   ]
  },
  {
   "cell_type": "code",
   "execution_count": 55,
   "metadata": {},
   "outputs": [
    {
     "data": {
      "image/png": "[encoded data removed]",
      "text/plain": [
       "<Figure size 720x720 with 1 Axes>"
      ]
     },
     "metadata": {
      "needs_background": "light"
     },
     "output_type": "display_data"
    }
   ],
   "source": [
    "plt.figure(figsize=(10,10))\n",
    "plot_Americas_consumption=sns.barplot(y='gini_reported', x='region_un_sub', \n",
    "                   data=Americas_consumption, \n",
    "                   palette='rainbow',)\n",
    "\n",
    "plot_Americas_consumption.set_title(\"Gini Reported in each Subregion in the Americas based on Consumption\", fontsize=15)\n",
    "plot_Americas_consumption.set_xlabel (\"UN Subregion\")\n",
    "plot_Americas_consumption.set_ylabel (\"Gini Reported\")\n",
    "plt.show()"
   ]
  },
  {
   "cell_type": "code",
   "execution_count": 56,
   "metadata": {},
   "outputs": [
    {
     "data": {
      "image/png": "[encoded data removed]",
      "text/plain": [
       "<Figure size 720x720 with 1 Axes>"
      ]
     },
     "metadata": {
      "needs_background": "light"
     },
     "output_type": "display_data"
    }
   ],
   "source": [
    "plt.figure(figsize=(10,10))\n",
    "\n",
    "plot_Americas_income_netgross=sns.barplot(y='gini_reported', x='region_un_sub', \n",
    "                   data=Americas_income_netgross, \n",
    "                   palette='rainbow',)\n",
    "\n",
    "plot_Americas_income_netgross.set_title(\"Gini Reported in each Subregion in the Americas based on Income (Net/Gross)\", fontsize=15)\n",
    "plot_Americas_income_netgross.set_xlabel (\"UN Subregion\")\n",
    "plot_Americas_income_netgross.set_ylabel (\"Differnce in Gini Reported\")\n",
    "plt.show()"
   ]
  },
  {
   "cell_type": "code",
   "execution_count": 57,
   "metadata": {},
   "outputs": [
    {
     "data": {
      "image/png": "[encoded data removed]",
      "text/plain": [
       "<Figure size 720x720 with 1 Axes>"
      ]
     },
     "metadata": {
      "needs_background": "light"
     },
     "output_type": "display_data"
    }
   ],
   "source": [
    "plt.figure(figsize=(10,10))\n",
    "\n",
    "plot_Americas_income_net=sns.barplot(y='gini_reported', x='region_un_sub', \n",
    "                   data=Americas_income_net, \n",
    "                   palette='rainbow',)\n",
    "\n",
    "plot_Americas_income_net.set_title(\"Gini Reported in each Subregion in the Americas based on Income (Net)\", fontsize=15)\n",
    "plot_Americas_income_net.set_xlabel (\"UN Subregion\")\n",
    "plot_Americas_income_net.set_ylabel (\"Gini Reported\")\n",
    "plt.show()"
   ]
  },
  {
   "cell_type": "code",
   "execution_count": 58,
   "metadata": {},
   "outputs": [
    {
     "data": {
      "image/png": "[encoded data removed]",
      "text/plain": [
       "<Figure size 720x720 with 1 Axes>"
      ]
     },
     "metadata": {
      "needs_background": "light"
     },
     "output_type": "display_data"
    }
   ],
   "source": [
    "plt.figure(figsize=(10,10))\n",
    "plot_Asia_consumption=sns.barplot(y='gini_reported', x='region_un_sub', \n",
    "                   data=Asia_consumption, \n",
    "                   palette='rainbow',)\n",
    "\n",
    "plot_Asia_consumption.set_title(\"Gini Reported in each Subregion in Asia based on Consumption\", fontsize=15)\n",
    "plot_Asia_consumption.set_xlabel (\"UN Subregion\")\n",
    "plot_Asia_consumption.set_ylabel (\"Gini Reported\")\n",
    "plt.show()"
   ]
  },
  {
   "cell_type": "code",
   "execution_count": 59,
   "metadata": {},
   "outputs": [
    {
     "data": {
      "image/png": "[encoded data removed]",
      "text/plain": [
       "<Figure size 720x720 with 1 Axes>"
      ]
     },
     "metadata": {
      "needs_background": "light"
     },
     "output_type": "display_data"
    }
   ],
   "source": [
    "plt.figure(figsize=(10,10))\n",
    "\n",
    "plot_Asia_income_netgross=sns.barplot(y='gini_reported', x='region_un_sub', \n",
    "                   data=Asia_income_netgross, \n",
    "                   palette='rainbow',)\n",
    "\n",
    "plot_Asia_income_netgross.set_title(\"Gini Reported in each Subregion in Asia based on Income (Net/Gross)\", fontsize=15)\n",
    "plot_Asia_income_netgross.set_xlabel (\"UN Subregion\")\n",
    "plot_Asia_income_netgross.set_ylabel (\"Differnce in Gini Reported\")\n",
    "plt.show()"
   ]
  },
  {
   "cell_type": "code",
   "execution_count": 60,
   "metadata": {},
   "outputs": [
    {
     "data": {
      "image/png": "[encoded data removed]",
      "text/plain": [
       "<Figure size 720x720 with 1 Axes>"
      ]
     },
     "metadata": {
      "needs_background": "light"
     },
     "output_type": "display_data"
    }
   ],
   "source": [
    "plt.figure(figsize=(10,10))\n",
    "\n",
    "plot_Asia_income_net=sns.barplot(y='gini_reported', x='region_un_sub', \n",
    "                   data=Asia_income_net, \n",
    "                   palette='rainbow',)\n",
    "\n",
    "plot_Asia_income_net.set_title(\"Gini Reported in each Subregion in Asia based on Income (Net)\", fontsize=15)\n",
    "plot_Asia_income_net.set_xlabel (\"UN Subregion\")\n",
    "plot_Asia_income_net.set_ylabel (\"Gini Reported\")\n",
    "plt.show()"
   ]
  },
  {
   "cell_type": "code",
   "execution_count": 61,
   "metadata": {},
   "outputs": [
    {
     "data": {
      "image/png": "[encoded data removed]",
      "text/plain": [
       "<Figure size 720x720 with 1 Axes>"
      ]
     },
     "metadata": {
      "needs_background": "light"
     },
     "output_type": "display_data"
    }
   ],
   "source": [
    "plt.figure(figsize=(10,10))\n",
    "plot_Europe_consumption=sns.barplot(y='gini_reported', x='region_un_sub', \n",
    "                   data=Europe_consumption, \n",
    "                   palette='rainbow',)\n",
    "\n",
    "plot_Europe_consumption.set_title(\"Gini Reported in each Subregion in Europe based on Consumption\", fontsize=15)\n",
    "plot_Europe_consumption.set_xlabel (\"UN Subregion\")\n",
    "plot_Europe_consumption.set_ylabel (\"Gini Reported\")\n",
    "plt.show()"
   ]
  },
  {
   "cell_type": "code",
   "execution_count": 62,
   "metadata": {},
   "outputs": [
    {
     "data": {
      "image/png": "[encoded data removed]",
      "text/plain": [
       "<Figure size 720x720 with 1 Axes>"
      ]
     },
     "metadata": {
      "needs_background": "light"
     },
     "output_type": "display_data"
    }
   ],
   "source": [
    "plt.figure(figsize=(10,10))\n",
    "\n",
    "plot_Europe_income_netgross=sns.barplot(y='gini_reported', x='region_un_sub', \n",
    "                   data=Europe_income_netgross, \n",
    "                   palette='rainbow',)\n",
    "\n",
    "plot_Europe_income_netgross.set_title(\"Gini Reported in each Subregion in Europe based on Income (Net/Gross)\", fontsize=15)\n",
    "plot_Europe_income_netgross.set_xlabel (\"UN Subregion\")\n",
    "plot_Europe_income_netgross.set_ylabel (\"Differnce in Gini Reported\")\n",
    "plt.show()"
   ]
  },
  {
   "cell_type": "code",
   "execution_count": 63,
   "metadata": {},
   "outputs": [
    {
     "data": {
      "image/png": "[encoded data removed]",
      "text/plain": [
       "<Figure size 720x720 with 1 Axes>"
      ]
     },
     "metadata": {
      "needs_background": "light"
     },
     "output_type": "display_data"
    }
   ],
   "source": [
    "plt.figure(figsize=(10,10))\n",
    "\n",
    "plot_Europe_income_net=sns.barplot(y='gini_reported', x='region_un_sub', \n",
    "                   data=Europe_income_net, \n",
    "                   palette='rainbow',)\n",
    "\n",
    "plot_Europe_income_net.set_title(\"Gini Reported in each Subregion in Europe based on Income (Net)\", fontsize=15)\n",
    "plot_Europe_income_net.set_xlabel (\"UN Subregion\")\n",
    "plot_Europe_income_net.set_ylabel (\"Gini Reported\")\n",
    "plt.show()"
   ]
  },
  {
   "cell_type": "code",
   "execution_count": 64,
   "metadata": {},
   "outputs": [
    {
     "data": {
      "image/png": "[encoded data removed]",
      "text/plain": [
       "<Figure size 720x720 with 1 Axes>"
      ]
     },
     "metadata": {
      "needs_background": "light"
     },
     "output_type": "display_data"
    }
   ],
   "source": [
    "plt.figure(figsize=(10,10))\n",
    "plot_Oceania_consumption=sns.barplot(y='gini_reported', x='region_un_sub', \n",
    "                   data=Oceania_consumption, \n",
    "                   palette='rainbow',)\n",
    "\n",
    "plot_Oceania_consumption.set_title(\"Gini Reported in each Subregion in the Oceania based on Consumption\", fontsize=15)\n",
    "plot_Oceania_consumption.set_xlabel (\"UN Subregion\")\n",
    "plot_Oceania_consumption.set_ylabel (\"Gini Reported\")\n",
    "plt.show()"
   ]
  },
  {
   "cell_type": "code",
   "execution_count": 65,
   "metadata": {},
   "outputs": [
    {
     "data": {
      "image/png": "[encoded data removed]",
      "text/plain": [
       "<Figure size 720x720 with 1 Axes>"
      ]
     },
     "metadata": {
      "needs_background": "light"
     },
     "output_type": "display_data"
    }
   ],
   "source": [
    "plt.figure(figsize=(10,10))\n",
    "\n",
    "plot_Oceania_income_netgross=sns.barplot(y='gini_reported', x='region_un_sub', \n",
    "                   data=Oceania_income_netgross, \n",
    "                   palette='rainbow',)\n",
    "\n",
    "plot_Oceania_income_netgross.set_title(\"Gini Reported in each Subregion in the Oceania based on Income (Net/Gross)\", fontsize=15)\n",
    "plot_Oceania_income_netgross.set_xlabel (\"UN Subregion\")\n",
    "plot_Oceania_income_netgross.set_ylabel (\"Differnce in Gini Reported\")\n",
    "plt.show()"
   ]
  },
  {
   "cell_type": "code",
   "execution_count": 66,
   "metadata": {},
   "outputs": [
    {
     "data": {
      "image/png": "[encoded data removed]",
      "text/plain": [
       "<Figure size 720x720 with 1 Axes>"
      ]
     },
     "metadata": {
      "needs_background": "light"
     },
     "output_type": "display_data"
    }
   ],
   "source": [
    "plt.figure(figsize=(10,10))\n",
    "\n",
    "plot_Oceania_income_net=sns.barplot(y='gini_reported', x='region_un_sub', \n",
    "                   data=Oceania_income_net, \n",
    "                   palette='rainbow',)\n",
    "\n",
    "plot_Oceania_income_net.set_title(\"Gini Reported in each Subregion in the Oceania based on Income (Net)\", fontsize=15)\n",
    "plot_Oceania_income_net.set_xlabel (\"UN Subregion\")\n",
    "plot_Oceania_income_net.set_ylabel (\"Gini Reported\")\n",
    "plt.show()"
   ]
  }
 ],
 "metadata": {
  "kernelspec": {
   "display_name": "Python 3",
   "language": "python",
   "name": "python3"
  },
  "language_info": {
   "codemirror_mode": {
    "name": "ipython",
    "version": 3
   },
   "file_extension": ".py",
   "mimetype": "text/x-python",
   "name": "python",
   "nbconvert_exporter": "python",
   "pygments_lexer": "ipython3",
   "version": "3.8.5"
  }
 },
 "nbformat": 4,
 "nbformat_minor": 2
}
